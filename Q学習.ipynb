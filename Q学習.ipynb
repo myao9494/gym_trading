{
 "cells": [
  {
   "cell_type": "code",
   "execution_count": 1,
   "metadata": {
    "ExecuteTime": {
     "end_time": "2018-05-06T12:02:03.040906Z",
     "start_time": "2018-05-06T12:02:02.010889Z"
    }
   },
   "outputs": [
    {
     "name": "stderr",
     "output_type": "stream",
     "text": [
      "C:\\Users\\mineo\\Anaconda3\\envs\\gym_test\\lib\\site-packages\\matplotlib\\cbook\\deprecation.py:106: MatplotlibDeprecationWarning: The finance module has been deprecated in mpl 2.0 and will be removed in mpl 2.2. Please use the module mpl_finance instead.\n",
      "  warnings.warn(message, mplDeprecation, stacklevel=1)\n"
     ]
    }
   ],
   "source": [
    "# coding: utf-8\n",
    "import gym\n",
    "import gym_trading\n",
    "from gym_trading.envs.Q_learning import Q\n",
    "\n",
    "csv = \"data/EURUSD60.csv\"\n"
   ]
  },
  {
   "cell_type": "code",
   "execution_count": 2,
   "metadata": {
    "ExecuteTime": {
     "end_time": "2018-05-06T12:02:03.844224Z",
     "start_time": "2018-05-06T12:02:03.841224Z"
    }
   },
   "outputs": [],
   "source": [
    "env = gym.make('trading-v0')"
   ]
  },
  {
   "cell_type": "code",
   "execution_count": 3,
   "metadata": {
    "ExecuteTime": {
     "end_time": "2018-05-06T12:02:04.593224Z",
     "start_time": "2018-05-06T12:02:04.505223Z"
    }
   },
   "outputs": [
    {
     "name": "stdout",
     "output_type": "stream",
     "text": [
      "                       Return       ATR  Open Trade  Duration Trade\n",
      "Date_Time                                                          \n",
      "2013-12-02 02:00:00  0.421251  0.355142         0.0             0.0\n",
      "\u001b[33mWARN: gym.spaces.Box autodetected dtype as <class 'numpy.float32'>. Please provide explicit dtype.\u001b[0m\n"
     ]
    }
   ],
   "source": [
    "env.initialise_simulator(csv,  trade_period=5, train_split=0.7)"
   ]
  },
  {
   "cell_type": "code",
   "execution_count": 4,
   "metadata": {
    "ExecuteTime": {
     "end_time": "2018-05-06T12:02:05.215275Z",
     "start_time": "2018-05-06T12:02:05.209275Z"
    }
   },
   "outputs": [
    {
     "name": "stdout",
     "output_type": "stream",
     "text": [
      "[[ 0.42125144  0.35514246  0.          0.        ]\n",
      " [ 1.7094119   0.45689009  0.          0.        ]\n",
      " [-0.59190109  0.45925152  0.          0.        ]\n",
      " ...\n",
      " [-1.00049976 -0.45976391  0.          0.        ]\n",
      " [-0.20124835 -0.51999441  0.          0.        ]\n",
      " [ 0.31455146 -0.61636501  0.          0.        ]]\n"
     ]
    }
   ],
   "source": [
    "print(env.sim.states)"
   ]
  },
  {
   "cell_type": "code",
   "execution_count": 5,
   "metadata": {
    "ExecuteTime": {
     "end_time": "2018-05-06T12:02:06.637622Z",
     "start_time": "2018-05-06T12:02:06.633621Z"
    }
   },
   "outputs": [],
   "source": [
    "Q_learning = Q(env, train_episodes=100, learning_rate=0.2, gamma=0.9)"
   ]
  },
  {
   "cell_type": "code",
   "execution_count": 6,
   "metadata": {
    "ExecuteTime": {
     "end_time": "2018-05-06T12:02:07.296642Z",
     "start_time": "2018-05-06T12:02:07.289644Z"
    }
   },
   "outputs": [
    {
     "data": {
      "text/plain": [
       "array([], dtype=float64)"
      ]
     },
     "execution_count": 6,
     "metadata": {},
     "output_type": "execute_result"
    }
   ],
   "source": [
    "Q_learning.lookup_table[Q_learning.lookup_table!=0]"
   ]
  },
  {
   "cell_type": "code",
   "execution_count": 7,
   "metadata": {
    "ExecuteTime": {
     "end_time": "2018-05-06T12:02:32.158061Z",
     "start_time": "2018-05-06T12:02:07.835057Z"
    }
   },
   "outputs": [
    {
     "name": "stdout",
     "output_type": "stream",
     "text": [
      "Training period  2013-12-02 02:00:00 - 2014-04-08 19:00:00\n",
      "2139\n",
      "End of Episode 1, Reward is -3.142577030812302\n",
      "2139\n",
      "End of Episode 2, Reward is -3.142577030812302\n",
      "2139\n",
      "End of Episode 3, Reward is -3.142577030812302\n",
      "2139\n",
      "End of Episode 4, Reward is -3.142577030812302\n",
      "2139\n",
      "End of Episode 5, Reward is -3.142577030812302\n",
      "2139\n",
      "End of Episode 6, Reward is -3.142577030812302\n",
      "2139\n",
      "End of Episode 7, Reward is -3.142577030812302\n",
      "2139\n",
      "End of Episode 8, Reward is -3.142577030812302\n",
      "2139\n",
      "End of Episode 9, Reward is -3.142577030812302\n",
      "2139\n",
      "End of Episode 10, Reward is -3.142577030812302\n",
      "2139\n",
      "End of Episode 11, Reward is -3.142577030812302\n",
      "2139\n",
      "End of Episode 12, Reward is -3.142577030812302\n",
      "2139\n",
      "End of Episode 13, Reward is -3.142577030812302\n",
      "2139\n",
      "End of Episode 14, Reward is -3.142577030812302\n",
      "2139\n",
      "End of Episode 15, Reward is -3.142577030812302\n",
      "2139\n",
      "End of Episode 16, Reward is -3.142577030812302\n",
      "2139\n",
      "End of Episode 17, Reward is -3.142577030812302\n",
      "2139\n",
      "End of Episode 18, Reward is -3.142577030812302\n",
      "2139\n",
      "End of Episode 19, Reward is -3.142577030812302\n",
      "2139\n",
      "End of Episode 20, Reward is -3.142577030812302\n",
      "2139\n",
      "End of Episode 21, Reward is -3.142577030812302\n",
      "2139\n",
      "End of Episode 22, Reward is -3.142577030812302\n",
      "2139\n",
      "End of Episode 23, Reward is -3.142577030812302\n",
      "2139\n",
      "End of Episode 24, Reward is -3.142577030812302\n",
      "2139\n",
      "End of Episode 25, Reward is -3.142577030812302\n",
      "2139\n",
      "End of Episode 26, Reward is -3.142577030812302\n",
      "2139\n",
      "End of Episode 27, Reward is -3.142577030812302\n",
      "2139\n",
      "End of Episode 28, Reward is -3.142577030812302\n",
      "2139\n",
      "End of Episode 29, Reward is -3.142577030812302\n",
      "2139\n",
      "End of Episode 30, Reward is -3.142577030812302\n",
      "2139\n",
      "End of Episode 31, Reward is -3.142577030812302\n",
      "2139\n",
      "End of Episode 32, Reward is -3.142577030812302\n",
      "2139\n",
      "End of Episode 33, Reward is -3.142577030812302\n",
      "2139\n",
      "End of Episode 34, Reward is -3.142577030812302\n",
      "2139\n",
      "End of Episode 35, Reward is -3.142577030812302\n",
      "2139\n",
      "End of Episode 36, Reward is -3.142577030812302\n",
      "2139\n",
      "End of Episode 37, Reward is -3.142577030812302\n",
      "2139\n",
      "End of Episode 38, Reward is -3.142577030812302\n",
      "2139\n",
      "End of Episode 39, Reward is -3.142577030812302\n",
      "2139\n",
      "End of Episode 40, Reward is -3.142577030812302\n",
      "2139\n",
      "End of Episode 41, Reward is -3.142577030812302\n",
      "2139\n",
      "End of Episode 42, Reward is -3.142577030812302\n",
      "2139\n",
      "End of Episode 43, Reward is -3.142577030812302\n",
      "2139\n",
      "End of Episode 44, Reward is -3.142577030812302\n",
      "2139\n",
      "End of Episode 45, Reward is -3.142577030812302\n",
      "2139\n",
      "End of Episode 46, Reward is -3.142577030812302\n",
      "2139\n",
      "End of Episode 47, Reward is -3.142577030812302\n",
      "2139\n",
      "End of Episode 48, Reward is -3.142577030812302\n",
      "2139\n",
      "End of Episode 49, Reward is -3.142577030812302\n",
      "2139\n",
      "End of Episode 50, Reward is -3.142577030812302\n",
      "2139\n",
      "End of Episode 51, Reward is -3.142577030812302\n",
      "2139\n",
      "End of Episode 52, Reward is -3.142577030812302\n",
      "2139\n",
      "End of Episode 53, Reward is -3.142577030812302\n",
      "2139\n",
      "End of Episode 54, Reward is -3.142577030812302\n",
      "2139\n",
      "End of Episode 55, Reward is -3.142577030812302\n",
      "2139\n",
      "End of Episode 56, Reward is -3.142577030812302\n",
      "2139\n",
      "End of Episode 57, Reward is -3.142577030812302\n",
      "2139\n",
      "End of Episode 58, Reward is -3.142577030812302\n",
      "2139\n",
      "End of Episode 59, Reward is -3.142577030812302\n",
      "2139\n",
      "End of Episode 60, Reward is -3.142577030812302\n",
      "2139\n",
      "End of Episode 61, Reward is -3.142577030812302\n",
      "2139\n",
      "End of Episode 62, Reward is -3.142577030812302\n",
      "2139\n",
      "End of Episode 63, Reward is -3.142577030812302\n",
      "2139\n",
      "End of Episode 64, Reward is -3.142577030812302\n",
      "2139\n",
      "End of Episode 65, Reward is -3.142577030812302\n",
      "2139\n",
      "End of Episode 66, Reward is -3.142577030812302\n",
      "2139\n",
      "End of Episode 67, Reward is -3.142577030812302\n",
      "2139\n",
      "End of Episode 68, Reward is -3.142577030812302\n",
      "2139\n",
      "End of Episode 69, Reward is -3.142577030812302\n",
      "2139\n",
      "End of Episode 70, Reward is -3.142577030812302\n",
      "2139\n",
      "End of Episode 71, Reward is -3.142577030812302\n",
      "2139\n",
      "End of Episode 72, Reward is -3.142577030812302\n",
      "2139\n",
      "End of Episode 73, Reward is -3.142577030812302\n",
      "2139\n",
      "End of Episode 74, Reward is -3.142577030812302\n",
      "2139\n",
      "End of Episode 75, Reward is -3.142577030812302\n",
      "2139\n",
      "End of Episode 76, Reward is -3.142577030812302\n",
      "2139\n",
      "End of Episode 77, Reward is -3.142577030812302\n",
      "2139\n",
      "End of Episode 78, Reward is -3.142577030812302\n",
      "2139\n",
      "End of Episode 79, Reward is -3.142577030812302\n",
      "2139\n",
      "End of Episode 80, Reward is -3.142577030812302\n",
      "2139\n",
      "End of Episode 81, Reward is -3.142577030812302\n",
      "2139\n",
      "End of Episode 82, Reward is -3.142577030812302\n",
      "2139\n",
      "End of Episode 83, Reward is -3.142577030812302\n",
      "2139\n",
      "End of Episode 84, Reward is -3.142577030812302\n",
      "2139\n",
      "End of Episode 85, Reward is -3.142577030812302\n",
      "2139\n",
      "End of Episode 86, Reward is -3.142577030812302\n",
      "2139\n",
      "End of Episode 87, Reward is -3.142577030812302\n",
      "2139\n",
      "End of Episode 88, Reward is -3.142577030812302\n",
      "2139\n",
      "End of Episode 89, Reward is -3.142577030812302\n",
      "2139\n",
      "End of Episode 90, Reward is -3.142577030812302\n",
      "2139\n",
      "End of Episode 91, Reward is -3.142577030812302\n",
      "2139\n",
      "End of Episode 92, Reward is -3.142577030812302\n",
      "2139\n",
      "End of Episode 93, Reward is -3.142577030812302\n",
      "2139\n",
      "End of Episode 94, Reward is -3.142577030812302\n",
      "2139\n",
      "End of Episode 95, Reward is -3.142577030812302\n",
      "2139\n",
      "End of Episode 96, Reward is -3.142577030812302\n",
      "2139\n",
      "End of Episode 97, Reward is -3.142577030812302\n",
      "2139\n",
      "End of Episode 98, Reward is -3.142577030812302\n",
      "2139\n",
      "End of Episode 99, Reward is -3.142577030812302\n",
      "2139\n",
      "End of Episode 100, Reward is -3.142577030812302\n"
     ]
    }
   ],
   "source": [
    "Q_learning.train()"
   ]
  },
  {
   "cell_type": "code",
   "execution_count": 8,
   "metadata": {
    "ExecuteTime": {
     "end_time": "2018-05-06T12:02:56.785116Z",
     "start_time": "2018-05-06T12:02:32.160057Z"
    }
   },
   "outputs": [
    {
     "name": "stdout",
     "output_type": "stream",
     "text": [
      "End of Test Period from 2014-04-08 20:00:00 to 2014-05-30 23:00:00, Average Reward is -3.142577030812302\n",
      "End of Test Period from 2014-04-08 20:00:00 to 2014-05-30 23:00:00, Average Reward is -3.142577030812302\n",
      "End of Test Period from 2014-04-08 20:00:00 to 2014-05-30 23:00:00, Average Reward is -3.142577030812302\n",
      "End of Test Period from 2014-04-08 20:00:00 to 2014-05-30 23:00:00, Average Reward is -3.142577030812302\n",
      "End of Test Period from 2014-04-08 20:00:00 to 2014-05-30 23:00:00, Average Reward is -3.142577030812302\n",
      "End of Test Period from 2014-04-08 20:00:00 to 2014-05-30 23:00:00, Average Reward is -3.142577030812302\n",
      "End of Test Period from 2014-04-08 20:00:00 to 2014-05-30 23:00:00, Average Reward is -3.142577030812302\n",
      "End of Test Period from 2014-04-08 20:00:00 to 2014-05-30 23:00:00, Average Reward is -3.142577030812302\n",
      "End of Test Period from 2014-04-08 20:00:00 to 2014-05-30 23:00:00, Average Reward is -3.142577030812302\n",
      "End of Test Period from 2014-04-08 20:00:00 to 2014-05-30 23:00:00, Average Reward is -3.142577030812302\n",
      "End of Test Period from 2014-04-08 20:00:00 to 2014-05-30 23:00:00, Average Reward is -3.142577030812302\n",
      "End of Test Period from 2014-04-08 20:00:00 to 2014-05-30 23:00:00, Average Reward is -3.142577030812302\n",
      "End of Test Period from 2014-04-08 20:00:00 to 2014-05-30 23:00:00, Average Reward is -3.142577030812302\n",
      "End of Test Period from 2014-04-08 20:00:00 to 2014-05-30 23:00:00, Average Reward is -3.142577030812302\n",
      "End of Test Period from 2014-04-08 20:00:00 to 2014-05-30 23:00:00, Average Reward is -3.142577030812302\n",
      "End of Test Period from 2014-04-08 20:00:00 to 2014-05-30 23:00:00, Average Reward is -3.142577030812302\n",
      "End of Test Period from 2014-04-08 20:00:00 to 2014-05-30 23:00:00, Average Reward is -3.142577030812302\n",
      "End of Test Period from 2014-04-08 20:00:00 to 2014-05-30 23:00:00, Average Reward is -3.142577030812302\n",
      "End of Test Period from 2014-04-08 20:00:00 to 2014-05-30 23:00:00, Average Reward is -3.142577030812302\n",
      "End of Test Period from 2014-04-08 20:00:00 to 2014-05-30 23:00:00, Average Reward is -3.142577030812302\n",
      "End of Test Period from 2014-04-08 20:00:00 to 2014-05-30 23:00:00, Average Reward is -3.142577030812302\n",
      "End of Test Period from 2014-04-08 20:00:00 to 2014-05-30 23:00:00, Average Reward is -3.142577030812302\n",
      "End of Test Period from 2014-04-08 20:00:00 to 2014-05-30 23:00:00, Average Reward is -3.142577030812302\n",
      "End of Test Period from 2014-04-08 20:00:00 to 2014-05-30 23:00:00, Average Reward is -3.142577030812302\n",
      "End of Test Period from 2014-04-08 20:00:00 to 2014-05-30 23:00:00, Average Reward is -3.142577030812302\n",
      "End of Test Period from 2014-04-08 20:00:00 to 2014-05-30 23:00:00, Average Reward is -3.142577030812302\n",
      "End of Test Period from 2014-04-08 20:00:00 to 2014-05-30 23:00:00, Average Reward is -3.142577030812302\n",
      "End of Test Period from 2014-04-08 20:00:00 to 2014-05-30 23:00:00, Average Reward is -3.142577030812302\n",
      "End of Test Period from 2014-04-08 20:00:00 to 2014-05-30 23:00:00, Average Reward is -3.142577030812302\n",
      "End of Test Period from 2014-04-08 20:00:00 to 2014-05-30 23:00:00, Average Reward is -3.142577030812302\n",
      "End of Test Period from 2014-04-08 20:00:00 to 2014-05-30 23:00:00, Average Reward is -3.142577030812302\n",
      "End of Test Period from 2014-04-08 20:00:00 to 2014-05-30 23:00:00, Average Reward is -3.142577030812302\n",
      "End of Test Period from 2014-04-08 20:00:00 to 2014-05-30 23:00:00, Average Reward is -3.142577030812302\n",
      "End of Test Period from 2014-04-08 20:00:00 to 2014-05-30 23:00:00, Average Reward is -3.142577030812302\n",
      "End of Test Period from 2014-04-08 20:00:00 to 2014-05-30 23:00:00, Average Reward is -3.142577030812302\n",
      "End of Test Period from 2014-04-08 20:00:00 to 2014-05-30 23:00:00, Average Reward is -3.142577030812302\n",
      "End of Test Period from 2014-04-08 20:00:00 to 2014-05-30 23:00:00, Average Reward is -3.142577030812302\n",
      "End of Test Period from 2014-04-08 20:00:00 to 2014-05-30 23:00:00, Average Reward is -3.142577030812302\n",
      "End of Test Period from 2014-04-08 20:00:00 to 2014-05-30 23:00:00, Average Reward is -3.142577030812302\n",
      "End of Test Period from 2014-04-08 20:00:00 to 2014-05-30 23:00:00, Average Reward is -3.142577030812302\n",
      "End of Test Period from 2014-04-08 20:00:00 to 2014-05-30 23:00:00, Average Reward is -3.142577030812302\n",
      "End of Test Period from 2014-04-08 20:00:00 to 2014-05-30 23:00:00, Average Reward is -3.142577030812302\n",
      "End of Test Period from 2014-04-08 20:00:00 to 2014-05-30 23:00:00, Average Reward is -3.142577030812302\n",
      "End of Test Period from 2014-04-08 20:00:00 to 2014-05-30 23:00:00, Average Reward is -3.142577030812302\n",
      "End of Test Period from 2014-04-08 20:00:00 to 2014-05-30 23:00:00, Average Reward is -3.142577030812302\n",
      "End of Test Period from 2014-04-08 20:00:00 to 2014-05-30 23:00:00, Average Reward is -3.142577030812302\n",
      "End of Test Period from 2014-04-08 20:00:00 to 2014-05-30 23:00:00, Average Reward is -3.142577030812302\n",
      "End of Test Period from 2014-04-08 20:00:00 to 2014-05-30 23:00:00, Average Reward is -3.142577030812302\n",
      "End of Test Period from 2014-04-08 20:00:00 to 2014-05-30 23:00:00, Average Reward is -3.142577030812302\n",
      "End of Test Period from 2014-04-08 20:00:00 to 2014-05-30 23:00:00, Average Reward is -3.142577030812302\n",
      "End of Test Period from 2014-04-08 20:00:00 to 2014-05-30 23:00:00, Average Reward is -3.142577030812302\n",
      "End of Test Period from 2014-04-08 20:00:00 to 2014-05-30 23:00:00, Average Reward is -3.142577030812302\n",
      "End of Test Period from 2014-04-08 20:00:00 to 2014-05-30 23:00:00, Average Reward is -3.142577030812302\n",
      "End of Test Period from 2014-04-08 20:00:00 to 2014-05-30 23:00:00, Average Reward is -3.142577030812302\n",
      "End of Test Period from 2014-04-08 20:00:00 to 2014-05-30 23:00:00, Average Reward is -3.142577030812302\n",
      "End of Test Period from 2014-04-08 20:00:00 to 2014-05-30 23:00:00, Average Reward is -3.142577030812302\n",
      "End of Test Period from 2014-04-08 20:00:00 to 2014-05-30 23:00:00, Average Reward is -3.142577030812302\n",
      "End of Test Period from 2014-04-08 20:00:00 to 2014-05-30 23:00:00, Average Reward is -3.142577030812302\n",
      "End of Test Period from 2014-04-08 20:00:00 to 2014-05-30 23:00:00, Average Reward is -3.142577030812302\n",
      "End of Test Period from 2014-04-08 20:00:00 to 2014-05-30 23:00:00, Average Reward is -3.142577030812302\n",
      "End of Test Period from 2014-04-08 20:00:00 to 2014-05-30 23:00:00, Average Reward is -3.142577030812302\n",
      "End of Test Period from 2014-04-08 20:00:00 to 2014-05-30 23:00:00, Average Reward is -3.142577030812302\n",
      "End of Test Period from 2014-04-08 20:00:00 to 2014-05-30 23:00:00, Average Reward is -3.142577030812302\n",
      "End of Test Period from 2014-04-08 20:00:00 to 2014-05-30 23:00:00, Average Reward is -3.142577030812302\n",
      "End of Test Period from 2014-04-08 20:00:00 to 2014-05-30 23:00:00, Average Reward is -3.142577030812302\n",
      "End of Test Period from 2014-04-08 20:00:00 to 2014-05-30 23:00:00, Average Reward is -3.142577030812302\n",
      "End of Test Period from 2014-04-08 20:00:00 to 2014-05-30 23:00:00, Average Reward is -3.142577030812302\n",
      "End of Test Period from 2014-04-08 20:00:00 to 2014-05-30 23:00:00, Average Reward is -3.142577030812302\n",
      "End of Test Period from 2014-04-08 20:00:00 to 2014-05-30 23:00:00, Average Reward is -3.142577030812302\n",
      "End of Test Period from 2014-04-08 20:00:00 to 2014-05-30 23:00:00, Average Reward is -3.142577030812302\n",
      "End of Test Period from 2014-04-08 20:00:00 to 2014-05-30 23:00:00, Average Reward is -3.142577030812302\n",
      "End of Test Period from 2014-04-08 20:00:00 to 2014-05-30 23:00:00, Average Reward is -3.142577030812302\n",
      "End of Test Period from 2014-04-08 20:00:00 to 2014-05-30 23:00:00, Average Reward is -3.142577030812302\n",
      "End of Test Period from 2014-04-08 20:00:00 to 2014-05-30 23:00:00, Average Reward is -3.142577030812302\n",
      "End of Test Period from 2014-04-08 20:00:00 to 2014-05-30 23:00:00, Average Reward is -3.142577030812302\n",
      "End of Test Period from 2014-04-08 20:00:00 to 2014-05-30 23:00:00, Average Reward is -3.142577030812302\n",
      "End of Test Period from 2014-04-08 20:00:00 to 2014-05-30 23:00:00, Average Reward is -3.142577030812302\n",
      "End of Test Period from 2014-04-08 20:00:00 to 2014-05-30 23:00:00, Average Reward is -3.142577030812302\n",
      "End of Test Period from 2014-04-08 20:00:00 to 2014-05-30 23:00:00, Average Reward is -3.142577030812302\n"
     ]
    },
    {
     "name": "stdout",
     "output_type": "stream",
     "text": [
      "End of Test Period from 2014-04-08 20:00:00 to 2014-05-30 23:00:00, Average Reward is -3.142577030812302\n",
      "End of Test Period from 2014-04-08 20:00:00 to 2014-05-30 23:00:00, Average Reward is -3.142577030812302\n",
      "End of Test Period from 2014-04-08 20:00:00 to 2014-05-30 23:00:00, Average Reward is -3.142577030812302\n",
      "End of Test Period from 2014-04-08 20:00:00 to 2014-05-30 23:00:00, Average Reward is -3.142577030812302\n",
      "End of Test Period from 2014-04-08 20:00:00 to 2014-05-30 23:00:00, Average Reward is -3.142577030812302\n",
      "End of Test Period from 2014-04-08 20:00:00 to 2014-05-30 23:00:00, Average Reward is -3.142577030812302\n",
      "End of Test Period from 2014-04-08 20:00:00 to 2014-05-30 23:00:00, Average Reward is -3.142577030812302\n",
      "End of Test Period from 2014-04-08 20:00:00 to 2014-05-30 23:00:00, Average Reward is -3.142577030812302\n",
      "End of Test Period from 2014-04-08 20:00:00 to 2014-05-30 23:00:00, Average Reward is -3.142577030812302\n",
      "End of Test Period from 2014-04-08 20:00:00 to 2014-05-30 23:00:00, Average Reward is -3.142577030812302\n",
      "End of Test Period from 2014-04-08 20:00:00 to 2014-05-30 23:00:00, Average Reward is -3.142577030812302\n",
      "End of Test Period from 2014-04-08 20:00:00 to 2014-05-30 23:00:00, Average Reward is -3.142577030812302\n",
      "End of Test Period from 2014-04-08 20:00:00 to 2014-05-30 23:00:00, Average Reward is -3.142577030812302\n",
      "End of Test Period from 2014-04-08 20:00:00 to 2014-05-30 23:00:00, Average Reward is -3.142577030812302\n",
      "End of Test Period from 2014-04-08 20:00:00 to 2014-05-30 23:00:00, Average Reward is -3.142577030812302\n",
      "End of Test Period from 2014-04-08 20:00:00 to 2014-05-30 23:00:00, Average Reward is -3.142577030812302\n",
      "End of Test Period from 2"
     ]
    },
    {
     "data": {
      "text/html": [
       "<b>limit_output extension: Maximum message size of 10000 exceeded with 10080 characters</b>"
      ]
     },
     "metadata": {},
     "output_type": "display_data"
    }
   ],
   "source": [
    "Q_learning.test(100)"
   ]
  },
  {
   "cell_type": "code",
   "execution_count": 9,
   "metadata": {
    "ExecuteTime": {
     "end_time": "2018-05-06T12:03:10.695282Z",
     "start_time": "2018-05-06T12:03:00.820900Z"
    }
   },
   "outputs": [
    {
     "name": "stdout",
     "output_type": "stream",
     "text": [
      "SUMMARY STATISTICS\n",
      "Total Trades Taken:  356\n",
      "Total Reward:  -1267.6999999999848\n",
      "Average Reward per Trade:  -3.5609550561797327\n",
      "Win Ratio: 40.168539325842694 %\n"
     ]
    },
    {
     "name": "stderr",
     "output_type": "stream",
     "text": [
      "C:\\Users\\mineo\\Anaconda3\\envs\\gym_test\\lib\\site-packages\\matplotlib\\font_manager.py:1320: UserWarning: findfont: Font family ['IPAexGothic'] not found. Falling back to DejaVu Sans\n",
      "  (prop.get_family(), self.defaultFamily[fontext]))\n"
     ]
    },
    {
     "data": {
      "image/png": "[encoded data removed]",
      "text/plain": [
       "<matplotlib.figure.Figure at 0x1f7e90f15c0>"
      ]
     },
     "metadata": {},
     "output_type": "display_data"
    },
    {
     "name": "stdout",
     "output_type": "stream",
     "text": [
      "[ { 'Entry Price': 1.35881,\n",
      "    'Entry Time': Timestamp('2013-12-02 03:00:00'),\n",
      "    'Exit Price': 1.3601299999999998,\n",
      "    'Exit Time': Timestamp('2013-12-02 08:00:00'),\n",
      "    'Profit': -16.199999999997658,\n",
      "    'Trade Duration': 5,\n",
      "    'Type': 'SELL',\n",
      "    'reward': -18.199999999997438},\n",
      "  { 'Entry Price': 1.36012,\n",
      "    'Entry Time': Timestamp('2013-12-02 09:00:00'),\n",
      "    'Exit Price': 1.35395,\n",
      "    'Exit Time': Timestamp('2013-12-02 14:00:00'),\n",
      "    'Profit': 58.70000000000009,\n",
      "    'Trade Duration': 5,\n",
      "    'Type': 'SELL',\n",
      "    'reward': 63.999999999999275},\n",
      "  { 'Entry Price': 1.35396,\n",
      "    'Entry Time': Timestamp('2013-12-02 15:00:00'),\n",
      "    'Exit Price': 1.35366,\n",
      "    'Exit Time': Timestamp('2013-12-02 20:00:00'),\n",
      "    'Profit': -3.304023721284466e-13,\n",
      "    'Trade Duration': 5,\n",
      "    'Type': 'SELL',\n",
      "    'reward': -12.799999999999809},\n",
      "  { 'Entry Price': 1.35366,\n",
      "    'Entry Time': Timestamp('2013-12-02 21:00:00'),\n",
      "    'Exit Price': 1.3535,\n",
      "    'Exit Time': Timestamp('2013-12-03 02:00:00'),\n",
      "    'Profit': -1.3999999999983999,\n",
      "    'Trade Duration': 5,\n",
      "    'Type': 'SELL',\n",
      "    'reward': -7.500000000000615},\n",
      "  { 'Entry Price': 1.3534899999999999,\n",
      "    'Entry Time': Timestamp('2013-12-03 03:00:00'),\n",
      "    'Exit Price': 1.35515,\n",
      "    'Exit Time': Timestamp('2013-12-03 08:00:00'),\n",
      "    'Profit': -19.60000000000217,\n",
      "    'Trade Duration': 5,\n",
      "    'Type': 'SELL',\n",
      "    'reward': -12.80000000000203},\n",
      "  { 'Entry Price': 1.35515,\n",
      "    'Entry Time': Timestamp('2013-12-03 09:00:00'),\n",
      "    'Exit Price': 1.3573600000000001,\n",
      "    'Exit Time': Timestamp('2013-12-03 14:00:00'),\n",
      "    'Profit': -25.100000000000453,\n",
      "    'Trade Duration': 5,\n",
      "    'Type': 'SELL',\n",
      "    'reward': -24.199999999998997},\n",
      "  { 'Entry Price': 1.35737,\n",
      "    'Entry Time': Timestamp('2013-12-03 15:00:00'),\n",
      "    'Exit Price': 1.35966,\n",
      "    'Exit Time': Timestamp('2013-12-03 20:00:00'),\n",
      "    'Profit': -25.900000000001253,\n",
      "    'Trade Duration': 5,\n",
      "    'Type': 'SELL',\n",
      "    'reward': -28.399999999999867},\n",
      "  { 'Entry Price': 1.35966,\n",
      "    'Entry Time': Timestamp('2013-12-03 21:00:00'),\n",
      "    'Exit Price': 1.35863,\n",
      "    'Exit Time': Timestamp('2013-12-04 02:00:00'),\n",
      "    'Profit': 7.300000000000864,\n",
      "    'Trade Duration': 5,\n",
      "    'Type': 'SELL',\n",
      "    'reward': 3.0000000000015596},\n",
      "  { 'Entry Price': 1.35863,\n",
      "    'Entry Time': Timestamp('2013-12-04 03:00:00'),\n",
      "    'Exit Price': 1.3579299999999999,\n",
      "    'Exit Time': Timestamp('2013-12-04 08:00:00'),\n",
      "    'Profit': 4.0000000000014495,\n",
      "    'Trade Duration': 5,\n",
      "    'Type': 'SELL',\n",
      "    'reward': -3.19999999999909},\n",
      "  { 'Entry Price': 1.35792,\n",
      "    'Entry Time': Timestamp('2013-12-04 09:00:00'),\n",
      "    'Exit Price': 1.35976,\n",
      "    'Exit Time': Timestamp('2013-12-04 14:00:00'),\n",
      "    'Profit': -21.400000000000638,\n",
      "    'Trade Duration': 5,\n",
      "    'Type': 'SELL',\n",
      "    'reward': -11.599999999998609},\n",
      "  { 'Entry Price': 1.35975,\n",
      "    'Entry Time': Timestamp('2013-12-04 15:00:00'),\n",
      "    'Exit Price': 1.35873,\n",
      "    'Exit Time': Timestamp('2013-12-04 20:00:00'),\n",
      "    'Profit': 7.200000000000209,\n",
      "    'Trade Duration': 5,\n",
      "    'Type': 'SELL',\n",
      "    'reward': 0.6000000000013728},\n",
      "  { 'Entry Price': 1.3587,\n",
      "    'Entry Time': Timestamp('2013-12-04 21:00:00'),\n",
      "    'Exit Price': 1.35801,\n",
      "    'Exit Time': Timestamp('2013-12-05 02:00:00'),\n",
      "    'Profit': 3.9000000000007944,\n",
      "    'Trade Duration': 5,\n",
      "    'Type': 'SELL',\n",
      "    'reward': -0.4999999999991651},\n",
      "  { 'Entry Price': 1.3580299999999998,\n",
      "    'Entry Time': Timestamp('2013-12-05 03:00:00'),\n",
      "    'Exit Price': 1.36248,\n",
      "    'Exit Time': Timestamp('2013-12-05 08:00:00'),\n",
      "    'Profit': -47.500000000000654,\n",
      "    'Trade Duration': 5,\n",
      "    'Type': 'SELL',\n",
      "    'reward': -26.700000000002053},\n",
      "  { 'Entry Price': 1.36246,\n",
      "    'Entry Time': Timestamp('2013-12-05 09:00:00'),\n",
      "    'Exit Price': 1.35836,\n",
      "    'Exit Time': Timestamp('2013-12-05 14:00:00'),\n",
      "    'Profit': 37.99999999999993,\n",
      "    'Trade Duration': 5,\n",
      "    'Type': 'SELL',\n",
      "    'reward': 36.20000000000145},\n",
      "  { 'Entry Price': 1.35837,\n",
      "    'Entry Time': Timestamp('2013-12-05 15:00:00'),\n",
      "    'Exit Price': 1.36639,\n",
      "    'Exit Time': Timestamp('2013-12-05 20:00:00'),\n",
      "    'Profit': -83.19999999999916,\n",
      "    'Trade Duration': 5,\n",
      "    'Type': 'SELL',\n",
      "    'reward': -83.00000000000007},\n",
      "  { 'Entry Price': 1.3664,\n",
      "    'Entry Time': Timestamp('2013-12-05 21:00:00'),\n",
      "    'Exit Price': 1.36657,\n",
      "    'Exit Time': Timestamp('2013-12-06 02:00:00'),\n",
      "    'Profit': -4.700000000000035,\n",
      "    'Trade Duration': 5,\n",
      "    'Type': 'SELL',\n",
      "    'reward': -6.899999999998904},\n",
      "  { 'Entry Price': 1.36657,\n",
      "    'Entry Time': Timestamp('2013-12-06 03:00:00'),\n",
      "    'Exit Price': 1.3654899999999999,\n",
      "    'Exit Time': Timestamp('2013-12-06 08:00:00'),\n",
      "    'Profit': 7.800000000001919,\n",
      "    'Trade Duration': 5,\n",
      "    'Type': 'SELL',\n",
      "    'reward': 3.5000000000003944},\n",
      "  { 'Entry Price': 1.3655,\n",
      "    'Entry Time': Timestamp('2013-12-06 09:00:00'),\n",
      "    'Exit Price': 1.36615,\n",
      "    'Exit Time': Timestamp('2013-12-06 14:00:00'),\n",
      "    'Profit': -9.500000000000394,\n",
      "    'Trade Duration': 5,\n",
      "    'Type': 'SELL',\n",
      "    'reward': -17.00000000000068},\n",
      "  { 'Entry Price': 1.36608,\n",
      "    'Entry Time': Timestamp('2013-12-06 15:00:00'),\n",
      "    'Exit Price': 1.36923,\n",
      "    'Exit Time': Timestamp('2013-12-06 20:00:00'),\n",
      "    'Profit': -34.49999999999986,\n",
      "    'Trade Duration': 5,\n",
      "    'Type': 'SELL',\n",
      "    'reward': -37.800000000001496},\n",
      "  { 'Entry Price': 1.36922,\n",
      "    'Entry Time': Timestamp('2013-12-06 21:00:00'),\n",
      "    'Exit Price': 1.3706200000000002,\n",
      "    'Exit Time': Timestamp('2013-12-09 02:00:00'),\n",
      "    'Profit': -17.00000000000068,\n",
      "    'Trade Duration': 5,\n",
      "    'Type': 'SELL',\n",
      "    'reward': -16.499999999999623},\n",
      "  { 'Entry Price': 1.3706200000000002,\n",
      "    'Entry Time': Timestamp('2013-12-09 03:00:00'),\n",
      "    'Exit Price': 1.36953,\n",
      "    'Exit Time': Timestamp('2013-12-09 08:00:00'),\n",
      "    'Profit': 7.900000000002574,\n",
      "    'Trade Duration': 5,\n",
      "    'Type': 'SELL',\n",
      "    'reward': -0.8999999999995651},\n",
      "  { 'Entry Price': 1.36954,\n",
      "    'Entry Time': Timestamp('2013-12-09 09:00:00'),\n",
      "    'Exit Price': 1.37214,\n",
      "    'Exit Time': Timestamp('2013-12-09 14:00:00'),\n",
      "    'Profit': -28.999999999999357,\n",
      "    'Trade Duration': 5,\n",
      "    'Type': 'SELL',\n",
      "    'reward': -23.599999999999508},\n",
      "  { 'Entry Price': 1.37214,\n",
      "    'Entry Time': Timestamp('2013-12-09 15:00:00'),\n",
      "    'Exit Price': 1.3739,\n",
      "    'Exit Time': Timestamp('2013-12-09 20:00:00'),\n",
      "    'Profit': -20.599999999999838,\n",
      "    'Trade Duration': 5,\n",
      "    'Type': 'SELL',\n",
      "    'reward': -4.100000000000545},\n",
      "  { 'Entry Price': 1.3738700000000001,\n",
      "    'Entry Time': Timestamp('2013-12-09 21:00:00'),\n",
      "    'Exit Price': 1.37375,\n",
      "    'Exit Time': Timestamp('2013-12-10 02:00:00'),\n",
      "    'Profit': -1.7999999999988,\n",
      "    'Trade Duration': 5,\n",
      "    'Type': 'SELL',\n",
      "    'reward': -0.39999999999851},\n",
      "  { 'Entry Price': 1.37375,\n",
      "    'Entry Time': Timestamp('2013-12-10 03:00:00'),\n",
      "    'Exit Price': 1.37447,\n",
      "    'Exit Time': Timestamp('2013-12-10 08:00:00'),\n",
      "    'Profit': -10.20000000000054,\n",
      "    'Trade Duration': 5,\n",
      "    'Type': 'SELL',\n",
      "    'reward': -17.399999999998858},\n",
      "  { 'Entry Price': 1.37445,\n",
      "    'Entry Time': Timestamp('2013-12-10 09:00:00'),\n",
      "    'Exit Price': 1.37514,\n",
      "    'Exit Time': Timestamp('2013-12-10 14:00:00'),\n",
      "    'Profit': -9.900000000000794,\n",
      "    'Trade Duration': 5,\n",
      "    'Type': 'SELL',\n",
      "    'reward': -1.899999999999455},\n",
      "  { 'Entry Price': 1.37515,\n",
      "    'Entry Time': Timestamp('2013-12-10 15:00:00'),\n",
      "    'Exit Price': 1.37723,\n",
      "    'Exit Time': Timestamp('2013-12-10 20:00:00'),\n",
      "    'Profit': -23.799999999998597,\n",
      "    'Trade Duration': 5,\n",
      "    'Type': 'SELL',\n",
      "    'reward': -20.09999999999878},\n",
      "  { 'Entry Price': 1.37724,\n",
      "    'Entry Time': Timestamp('2013-12-10 21:00:00'),\n",
      "    'Exit Price': 1.376,\n",
      "    'Exit Time': Timestamp('2013-12-11 02:00:00'),\n",
      "    'Profit': 9.400000000001299,\n",
      "    'Trade Duration': 5,\n",
      "    'Type': 'SELL',\n",
      "    'reward': 6.200000000000319},\n",
      "  { 'Entry Price': 1.376,\n",
      "    'Entry Time': Timestamp('2013-12-11 03:00:00'),\n",
      "    'Exit Price': 1.37615,\n",
      "    'Exit Time': Timestamp('2013-12-11 08:00:00'),\n",
      "    'Profit': -4.500000000000945,\n",
      "    'Trade Duration': 5,\n",
      "    'Type': 'SELL',\n",
      "    'reward': 0.1999999999987594},\n",
      "  { 'Entry Price': 1.37615,\n",
      "    'Entry Time': Timestamp('2013-12-11 09:00:00'),\n",
      "    'Exit Price': 1.37656,\n",
      "    'Exit Time': Timestamp('2013-12-11 14:00:00'),\n",
      "    'Profit': -7.100000000000215,\n",
      "    'Trade Duration': 5,\n",
      "    'Type': 'SELL',\n",
      "    'reward': -6.899999999998904},\n",
      "  { 'Entry Price': 1.3766200000000002,\n",
      "    'Entry Time': Timestamp('2013-12-11 15:00:00'),\n",
      "    'Exit Price': 1.3791799999999999,\n",
      "    'Exit Time': Timestamp('2013-12-11 20:00:00'),\n",
      "    'Profit': -28.599999999996736,\n",
      "    'Trade Duration': 5,\n",
      "    'Type': 'SELL',\n",
      "    'reward': -38.39999999999876},\n",
      "  { 'Entry Price': 1.3792,\n",
      "    'Entry Time': Timestamp('2013-12-11 21:00:00'),\n",
      "    'Exit Price': 1.37737,\n",
      "    'Exit Time': Timestamp('2013-12-12 02:00:00'),\n",
      "    'Profit': 15.299999999999983,\n",
      "    'Trade Duration': 5,\n",
      "    'Type': 'SELL',\n",
      "    'reward': 4.800000000000029},\n",
      "  { 'Entry Price': 1.3773799999999998,\n",
      "    'Entry Time': Timestamp('2013-12-12 03:00:00'),\n",
      "    'Exit Price': 1.37805,\n",
      "    'Exit Time': Timestamp('2013-12-12 08:00:00'),\n",
      "    'Profit': -9.700000000001705,\n",
      "    'Trade Duration': 5,\n",
      "    'Type': 'SELL',\n",
      "    'reward': -20.60000000000206},\n",
      "  { 'Entry Price': 1.3780299999999999,\n",
      "    'Entry Time': Timestamp('2013-12-12 09:00:00'),\n",
      "    'Exit Price': 1.37816,\n",
      "    'Exit Time': Timestamp('2013-12-12 14:00:00'),\n",
      "    'Profit': -4.300000000001855,\n",
      "    'Trade Duration': 5,\n",
      "    'Type': 'SELL',\n",
      "    'reward': -9.300000000001305},\n",
      "  { 'Entry Price': 1.37819,\n",
      "    'Entry Time': Timestamp('2013-12-12 15:00:00'),\n",
      "    'Exit Price': 1.37378,\n",
      "    'Exit Time': Timestamp('2013-12-12 20:00:00'),\n",
      "    'Profit': 41.10000000000025,\n",
      "    'Trade Duration': 5,\n",
      " "
     ]
    },
    {
     "data": {
      "text/html": [
       "<b>limit_output extension: Maximum message size of 10000 exceeded with 24432 characters</b>"
      ]
     },
     "metadata": {},
     "output_type": "display_data"
    }
   ],
   "source": [
    "Q_learning._generate_summary_stats()"
   ]
  },
  {
   "cell_type": "code",
   "execution_count": 10,
   "metadata": {
    "ExecuteTime": {
     "end_time": "2018-05-06T12:03:10.714284Z",
     "start_time": "2018-05-06T12:03:10.697286Z"
    }
   },
   "outputs": [
    {
     "name": "stdout",
     "output_type": "stream",
     "text": [
      "[{'Entry Price': 1.35881, 'Exit Price': 1.3601299999999998, 'Entry Time': Timestamp('2013-12-02 03:00:00'), 'Exit Time': Timestamp('2013-12-02 08:00:00'), 'Profit': -16.199999999997658, 'Trade Duration': 5, 'Type': 'SELL', 'reward': -18.199999999997438}, {'Entry Price': 1.36012, 'Exit Price': 1.35395, 'Entry Time': Timestamp('2013-12-02 09:00:00'), 'Exit Time': Timestamp('2013-12-02 14:00:00'), 'Profit': 58.70000000000009, 'Trade Duration': 5, 'Type': 'SELL', 'reward': 63.999999999999275}, {'Entry Price': 1.35396, 'Exit Price': 1.35366, 'Entry Time': Timestamp('2013-12-02 15:00:00'), 'Exit Time': Timestamp('2013-12-02 20:00:00'), 'Profit': -3.304023721284466e-13, 'Trade Duration': 5, 'Type': 'SELL', 'reward': -12.799999999999809}, {'Entry Price': 1.35366, 'Exit Price': 1.3535, 'Entry Time': Timestamp('2013-12-02 21:00:00'), 'Exit Time': Timestamp('2013-12-03 02:00:00'), 'Profit': -1.3999999999983999, 'Trade Duration': 5, 'Type': 'SELL', 'reward': -7.500000000000615}, {'Entry Price': 1.3534899999999999, 'Exit Price': 1.35515, 'Entry Time': Timestamp('2013-12-03 03:00:00'), 'Exit Time': Timestamp('2013-12-03 08:00:00'), 'Profit': -19.60000000000217, 'Trade Duration': 5, 'Type': 'SELL', 'reward': -12.80000000000203}, {'Entry Price': 1.35515, 'Exit Price': 1.3573600000000001, 'Entry Time': Timestamp('2013-12-03 09:00:00'), 'Exit Time': Timestamp('2013-12-03 14:00:00'), 'Profit': -25.100000000000453, 'Trade Duration': 5, 'Type': 'SELL', 'reward': -24.199999999998997}, {'Entry Price': 1.35737, 'Exit Price': 1.35966, 'Entry Time': Timestamp('2013-12-03 15:00:00'), 'Exit Time': Timestamp('2013-12-03 20:00:00'), 'Profit': -25.900000000001253, 'Trade Duration': 5, 'Type': 'SELL', 'reward': -28.399999999999867}, {'Entry Price': 1.35966, 'Exit Price': 1.35863, 'Entry Time': Timestamp('2013-12-03 21:00:00'), 'Exit Time': Timestamp('2013-12-04 02:00:00'), 'Profit': 7.300000000000864, 'Trade Duration': 5, 'Type': 'SELL', 'reward': 3.0000000000015596}, {'Entry Price': 1.35863, 'Exit Price': 1.3579299999999999, 'Entry Time': Timestamp('2013-12-04 03:00:00'), 'Exit Time': Timestamp('2013-12-04 08:00:00'), 'Profit': 4.0000000000014495, 'Trade Duration': 5, 'Type': 'SELL', 'reward': -3.19999999999909}, {'Entry Price': 1.35792, 'Exit Price': 1.35976, 'Entry Time': Timestamp('2013-12-04 09:00:00'), 'Exit Time': Timestamp('2013-12-04 14:00:00'), 'Profit': -21.400000000000638, 'Trade Duration': 5, 'Type': 'SELL', 'reward': -11.599999999998609}, {'Entry Price': 1.35975, 'Exit Price': 1.35873, 'Entry Time': Timestamp('2013-12-04 15:00:00'), 'Exit Time': Timestamp('2013-12-04 20:00:00'), 'Profit': 7.200000000000209, 'Trade Duration': 5, 'Type': 'SELL', 'reward': 0.6000000000013728}, {'Entry Price': 1.3587, 'Exit Price': 1.35801, 'Entry Time': Timestamp('2013-12-04 21:00:00'), 'Exit Time': Timestamp('2013-12-05 02:00:00'), 'Profit': 3.9000000000007944, 'Trade Duration': 5, 'Type': 'SELL', 'reward': -0.4999999999991651}, {'Entry Price': 1.3580299999999998, 'Exit Price': 1.36248, 'Entry Time': Timestamp('2013-12-05 03:00:00'), 'Exit Time': Timestamp('2013-12-05 08:00:00'), 'Profit': -47.500000000000654, 'Trade Duration': 5, 'Type': 'SELL', 'reward': -26.700000000002053}, {'Entry Price': 1.36246, 'Exit Price': 1.35836, 'Entry Time': Timestamp('2013-12-05 09:00:00'), 'Exit Time': Timestamp('2013-12-05 14:00:00'), 'Profit': 37.99999999999993, 'Trade Duration': 5, 'Type': 'SELL', 'reward': 36.20000000000145}, {'Entry Price': 1.35837, 'Exit Price': 1.36639, 'Entry Time': Timestamp('2013-12-05 15:00:00'), 'Exit Time': Timestamp('2013-12-05 20:00:00'), 'Profit': -83.19999999999916, 'Trade Duration': 5, 'Type': 'SELL', 'reward': -83.00000000000007}, {'Entry Price': 1.3664, 'Exit Price': 1.36657, 'Entry Time': Timestamp('2013-12-05 21:00:00'), 'Exit Time': Timestamp('2013-12-06 02:00:00'), 'Profit': -4.700000000000035, 'Trade Duration': 5, 'Type': 'SELL', 'reward': -6.899999999998904}, {'Entry Price': 1.36657, 'Exit Price': 1.3654899999999999, 'Entry Time': Timestamp('2013-12-06 03:00:00'), 'Exit Time': Timestamp('2013-12-06 08:00:00'), 'Profit': 7.800000000001919, 'Trade Duration': 5, 'Type': 'SELL', 'reward': 3.5000000000003944}, {'Entry Price': 1.3655, 'Exit Price': 1.36615, 'Entry Time': Timestamp('2013-12-06 09:00:00'), 'Exit Time': Timestamp('2013-12-06 14:00:00'), 'Profit': -9.500000000000394, 'Trade Duration': 5, 'Type': 'SELL', 'reward': -17.00000000000068}, {'Entry Price': 1.36608, 'Exit Price': 1.36923, 'Entry Time': Timestamp('2013-12-06 15:00:00'), 'Exit Time': Timestamp('2013-12-06 20:00:00'), 'Profit': -34.49999999999986, 'Trade Duration': 5, 'Type': 'SELL', 'reward': -37.800000000001496}, {'Entry Price': 1.36922, 'Exit Price': 1.3706200000000002, 'Entry Time': Timestamp('2013-12-06 21:00:00'), 'Exit Time': Timestamp('2013-12-09 02:00:00'), 'Profit': -17.00000000000068, 'Trade Duration': 5, 'Type': 'SELL', 'reward': -16.499999999999623}, {'Entry Price': 1.3706200000000002, 'Exit Price': 1.36953, 'Entry Time': Timestamp('2013-12-09 03:00:00'), 'Exit Time': Timestamp('2013-12-09 08:00:00'), 'Profit': 7.900000000002574, 'Trade Duration': 5, 'Type': 'SELL', 'reward': -0.8999999999995651}, {'Entry Price': 1.36954, 'Exit Price': 1.37214, 'Entry Time': Timestamp('2013-12-09 09:00:00'), 'Exit Time': Timestamp('2013-12-09 14:00:00'), 'Profit': -28.999999999999357, 'Trade Duration': 5, 'Type': 'SELL', 'reward': -23.599999999999508}, {'Entry Price': 1.37214, 'Exit Price': 1.3739, 'Entry Time': Timestamp('2013-12-09 15:00:00'), 'Exit Time': Timestamp('2013-12-09 20:00:00'), 'Profit': -20.599999999999838, 'Trade Duration': 5, 'Type': 'SELL', 'reward': -4.100000000000545}, {'Entry Price': 1.3738700000000001, 'Exit Price': 1.37375, 'Entry Time': Timestamp('2013-12-09 21:00:00'), 'Exit Time': Timestamp('2013-12-10 02:00:00'), 'Profit': -1.7999999999988, 'Trade Duration': 5, 'Type': 'SELL', 'reward': -0.39999999999851}, {'Entry Price': 1.37375, 'Exit Price': 1.37447, 'Entry Time': Timestamp('2013-12-10 03:00:00'), 'Exit Time': Timestamp('2013-12-10 08:00:00'), 'Profit': -10.20000000000054, 'Trade Duration': 5, 'Type': 'SELL', 'reward': -17.399999999998858}, {'Entry Price': 1.37445, 'Exit Price': 1.37514, 'Entry Time': Timestamp('2013-12-10 09:00:00'), 'Exit Time': Timestamp('2013-12-10 14:00:00'), 'Profit': -9.900000000000794, 'Trade Duration': 5, 'Type': 'SELL', 'reward': -1.899999999999455}, {'Entry Price': 1.37515, 'Exit Price': 1.37723, 'Entry Time': Timestamp('2013-12-10 15:00:00'), 'Exit Time': Timestamp('2013-12-10 20:00:00'), 'Profit': -23.799999999998597, 'Trade Duration': 5, 'Type': 'SELL', 'reward': -20.09999999999878}, {'Entry Price': 1.37724, 'Exit Price': 1.376, 'Entry Time': Timestamp('2013-12-10 21:00:00'), 'Exit Time': Timestamp('2013-12-11 02:00:00'), 'Profit': 9.400000000001299, 'Trade Duration': 5, 'Type': 'SELL', 'reward': 6.200000000000319}, {'Entry Price': 1.376, 'Exit Price': 1.37615, 'Entry Time': Timestamp('2013-12-11 03:00:00'), 'Exit Time': Timestamp('2013-12-11 08:00:00'), 'Profit': -4.500000000000945, 'Trade Duration': 5, 'Type': 'SELL', 'reward': 0.1999999999987594}, {'Entry Price': 1.37615, 'Exit Price': 1.37656, 'Entry Time': Timestamp('2013-12-11 09:00:00'), 'Exit Time': Timestamp('2013-12-11 14:00:00'), 'Profit': -7.100000000000215, 'Trade Duration': 5, 'Type': 'SELL', 'reward': -6.899999999998904}, {'Entry Price': 1.3766200000000002, 'Exit Price': 1.3791799999999999, 'Entry Time': Timestamp('2013-12-11 15:00:00'), 'Exit Time': Timestamp('2013-12-11 20:00:00'), 'Profit': -28.599999999996736, 'Trade Duration': 5, 'Type': 'SELL', 'reward': -38.39999999999876}, {'Entry Price': 1.3792, 'Exit Price': 1.37737, 'Entry Time': Timestamp('2013-12-11 21:00:00'), 'Exit Time': Timestamp('2013-12-12 02:00:00'), 'Profit': 15.299999999999983, 'Trade Duration': 5, 'Type': 'SELL', 'reward': 4.800000000000029}, {'Entry Price': 1.3773799999999998, 'Exit Price': 1.37805, 'Entry Time': Timestamp('2013-12-12 03:00:00'), 'Exit Time': Timestamp('2013-12-12 08:00:00'), 'Profit': -9.700000000001705, 'Trade Duration': 5, 'Type': 'SELL', 'reward': -20.60000000000206}, {'Entry Price': 1.3780299999999999, 'Exit Price': 1.37816, 'Entry Time': Timestamp('2013-12-12 09:00:00'), 'Exit Time': Timestamp('2013-12-12 14:00:00'), 'Profit': -4.300000000001855, 'Trade Duration': 5, 'Type': 'SELL', 'reward': -9.300000000001305}, {'Entry Price': 1.37819, 'Exit Price': 1.37378, 'Entry Time': Timestamp('2013-12-12 15:00:00'), 'Exit Time': Timestamp('2013-12-12 20:00:00'), 'Profit': 41.10000000000025, 'Trade Duration': 5, 'Type': 'SELL', 'reward': 31.199999999999786}, {'Entry Price': 1.3738, 'Exit Price': 1.37455, 'Entry Time': Timestamp('2013-12-12 21:00:00'), 'Exit Time': Timestamp('2013-12-13 02:00:00'), 'Profit': -10.500000000000284, 'Trade Duration': 5, 'Type': 'SELL', 'reward': -13.799999999999699}, {'Entry Price': 1.37456, 'Exit Price': 1.37509, 'Entry Time': Timestamp('2013-12-13 03:00:00'), 'Exit Time': Timestamp('2013-12-13 08:00:00'), 'Profit': -8.299999999999194, 'Trade Duration': 5, 'Type': 'SELL', 'reward': -6.500000000000725}, {'Entry Price': 1.37509, 'Exit Price': 1.37286, 'Entry Time': Timestamp('2013-12-13 09:00:00'), 'Exit Time': Timestamp('2013-12-13 14:00:00'), 'Profit': 19.299999999999542, 'Trade Duration': 5, 'Type': 'SELL', 'reward': 25.89999999999837}, {'Entry Price': 1.3728799999999999, 'Exit Price': 1.37249, 'Entry Time': Timestamp('2013-12-13 15:00:00'), 'Exit Time': Timestamp('2013-12-13 20:00:00'), 'Profit': 0.8999999999989043, 'Trade Duration': 5, 'Type': 'SELL', 'reward': 7.9999999999987885}, {'Entry Price': 1.3725100000000001, 'Exit Price': 1.3745, 'Entry Time': Timestamp('2013-12-13 21:00:00'), 'Exit Time': Timestamp('2013-12-16 02:00:00'), 'Profit': -22.899999999999363, 'Trade Duration': 5, 'Type': 'SELL', 'reward': -14.999999999998678}, {'Entry Price': 1.3745, 'Exit Price': 1.37551, 'Entry Time': Timestamp('2013-12-16 03:00:00'), 'Exit Time': Timestamp('2013-12-16 08:00:00'), 'Profit': -13.099999999999554, 'Trade Duration': 5"
     ]
    },
    {
     "data": {
      "text/html": [
       "<b>limit_output extension: Maximum message size of 10000 exceeded with 87266 characters</b>"
      ]
     },
     "metadata": {},
     "output_type": "display_data"
    }
   ],
   "source": [
    "print(env.portfolio.journal)"
   ]
  },
  {
   "cell_type": "code",
   "execution_count": null,
   "metadata": {},
   "outputs": [],
   "source": []
  }
 ],
 "metadata": {
  "hide_input": false,
  "kernelspec": {
   "display_name": "Python 3",
   "language": "python",
   "name": "python3"
  },
  "language_info": {
   "codemirror_mode": {
    "name": "ipython",
    "version": 3
   },
   "file_extension": ".py",
   "mimetype": "text/x-python",
   "name": "python",
   "nbconvert_exporter": "python",
   "pygments_lexer": "ipython3",
   "version": "3.6.4"
  },
  "nbTranslate": {
   "displayLangs": [
    "*"
   ],
   "hotkey": "alt-t",
   "langInMainMenu": true,
   "sourceLang": "en",
   "targetLang": "fr",
   "useGoogleTranslate": true
  },
  "toc": {
   "base_numbering": 1,
   "nav_menu": {},
   "number_sections": true,
   "sideBar": true,
   "skip_h1_title": false,
   "title_cell": "Table of Contents",
   "title_sidebar": "Contents",
   "toc_cell": false,
   "toc_position": {},
   "toc_section_display": true,
   "toc_window_display": false
  }
 },
 "nbformat": 4,
 "nbformat_minor": 2
}
